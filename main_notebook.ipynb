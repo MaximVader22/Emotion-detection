{
 "cells": [
  {
   "cell_type": "code",
   "execution_count": 4,
   "id": "d8c0bb69",
   "metadata": {},
   "outputs": [],
   "source": [
    "import tensorflow as tf # библиотека для обучения нейронной сети\n",
    "import cv2 # библиотека компьютерного зрения\n",
    "import matplotlib.pyplot as plt # визуализация\n",
    "import numpy as np\n",
    "import random\n",
    "import os"
   ]
  },
  {
   "cell_type": "code",
   "execution_count": 2,
   "id": "bf1638ea",
   "metadata": {},
   "outputs": [],
   "source": [
    "categories = [\"angry\", \"fear\", \"happy\", \"neutral\", \"sad\", \"surprise\"] # название шести классов эмоций"
   ]
  },
  {
   "cell_type": "code",
   "execution_count": 3,
   "id": "35750610",
   "metadata": {},
   "outputs": [
    {
     "data": {
      "text/plain": [
       "(48, 48, 3)"
      ]
     },
     "execution_count": 3,
     "metadata": {},
     "output_type": "execute_result"
    }
   ],
   "source": [
    "example_img = cv2.imread(\"train/angry/Training_3908.jpg\")\n",
    "example_img.shape"
   ]
  },
  {
   "cell_type": "code",
   "execution_count": 4,
   "id": "37abf070",
   "metadata": {},
   "outputs": [
    {
     "data": {
      "text/plain": [
       "<matplotlib.image.AxesImage at 0x277df67ce80>"
      ]
     },
     "execution_count": 4,
     "metadata": {},
     "output_type": "execute_result"
    },
    {
     "data": {
      "image/png": "[encoded data removed]",
      "text/plain": [
       "<Figure size 640x480 with 1 Axes>"
      ]
     },
     "metadata": {},
     "output_type": "display_data"
    }
   ],
   "source": [
    "plt.imshow(example_img)"
   ]
  },
  {
   "cell_type": "markdown",
   "id": "556a7780",
   "metadata": {},
   "source": [
    "# Чтение датасета"
   ]
  },
  {
   "cell_type": "code",
   "execution_count": 5,
   "id": "a32f8e21",
   "metadata": {},
   "outputs": [
    {
     "ename": "KeyboardInterrupt",
     "evalue": "",
     "output_type": "error",
     "traceback": [
      "\u001b[1;31m---------------------------------------------------------------------------\u001b[0m",
      "\u001b[1;31mKeyboardInterrupt\u001b[0m                         Traceback (most recent call last)",
      "Cell \u001b[1;32mIn [5], line 11\u001b[0m\n\u001b[0;32m      9\u001b[0m \u001b[38;5;28;01mif\u001b[39;00m cnt \u001b[38;5;241m==\u001b[39m limit:\n\u001b[0;32m     10\u001b[0m     \u001b[38;5;28;01mbreak\u001b[39;00m\n\u001b[1;32m---> 11\u001b[0m img \u001b[38;5;241m=\u001b[39m cv2\u001b[38;5;241m.\u001b[39mimread(os\u001b[38;5;241m.\u001b[39mpath\u001b[38;5;241m.\u001b[39mjoin(path, img))\n\u001b[0;32m     12\u001b[0m img \u001b[38;5;241m=\u001b[39m np\u001b[38;5;241m.\u001b[39marray([[el2[\u001b[38;5;241m0\u001b[39m] \u001b[38;5;28;01mfor\u001b[39;00m el2 \u001b[38;5;129;01min\u001b[39;00m el1] \u001b[38;5;28;01mfor\u001b[39;00m el1 \u001b[38;5;129;01min\u001b[39;00m img]) \u001b[38;5;66;03m# Так как изображение ч/б, оставим только один параметр на пиксель\u001b[39;00m\n\u001b[0;32m     13\u001b[0m img \u001b[38;5;241m=\u001b[39m cv2\u001b[38;5;241m.\u001b[39mresize(img, img_size)\n",
      "\u001b[1;31mKeyboardInterrupt\u001b[0m: "
     ]
    }
   ],
   "source": [
    "training_data = []\n",
    "img_size = (64, 64)\n",
    "limit = 3000 # количество изображений, попадающие в обучающую выборку с каждого датасета\n",
    "\n",
    "for num, category in enumerate(categories):\n",
    "    path = os.path.join(\"train/\", category)\n",
    "    cnt = 0\n",
    "    for img in os.listdir(path):\n",
    "        if cnt == limit:\n",
    "            break\n",
    "        img = cv2.imread(os.path.join(path, img))\n",
    "        img = np.array([[el2[0] for el2 in el1] for el1 in img]) # Так как изображение ч/б, оставим только один параметр на пиксель\n",
    "        img = cv2.resize(img, img_size)\n",
    "        training_data.append([img, num])\n",
    "        cnt += 1"
   ]
  },
  {
   "cell_type": "code",
   "execution_count": null,
   "id": "b6333661",
   "metadata": {},
   "outputs": [],
   "source": [
    "len(training_data)"
   ]
  },
  {
   "cell_type": "code",
   "execution_count": null,
   "id": "a7013807",
   "metadata": {},
   "outputs": [],
   "source": [
    "training_data[0][0].shape"
   ]
  },
  {
   "cell_type": "code",
   "execution_count": null,
   "id": "35b6238c",
   "metadata": {},
   "outputs": [],
   "source": [
    "random.shuffle(training_data) # перемешиваем данные"
   ]
  },
  {
   "cell_type": "code",
   "execution_count": null,
   "id": "b04105eb",
   "metadata": {},
   "outputs": [],
   "source": [
    "X = [] # фичи\n",
    "y = [] # класс\n",
    "\n",
    "for features, category in training_data:\n",
    "    X.append(features)\n",
    "    y.append(category)\n",
    "\n",
    "X = np.array(X)\n",
    "y = np.array(y)"
   ]
  },
  {
   "cell_type": "code",
   "execution_count": null,
   "id": "72c44dc3",
   "metadata": {},
   "outputs": [],
   "source": [
    "plt.imshow(X[0])\n",
    "print(categories[y[0]])"
   ]
  },
  {
   "cell_type": "markdown",
   "id": "7cf6a760",
   "metadata": {},
   "source": [
    "# Создание модели"
   ]
  },
  {
   "cell_type": "markdown",
   "id": "008928e7",
   "metadata": {},
   "source": [
    "Будем использовать свёрточную нейронную сеть с такой архитектурой:"
   ]
  },
  {
   "cell_type": "code",
   "execution_count": null,
   "id": "3169d49b",
   "metadata": {},
   "outputs": [],
   "source": [
    "model = tf.keras.Sequential([\n",
    "    tf.keras.layers.Conv2D(32, (3,3), padding='same', activation='relu', input_shape=(img_size[0], img_size[1], 1)),\n",
    "    tf.keras.layers.Conv2D(64,(3,3), padding='same', activation='relu'),\n",
    "    tf.keras.layers.BatchNormalization(),\n",
    "    tf.keras.layers.MaxPooling2D(2, 2),\n",
    "    tf.keras.layers.Dropout(0.25),\n",
    "\n",
    "    tf.keras.layers.Conv2D(128, (3, 3), padding='same', activation='relu'),\n",
    "    tf.keras.layers.MaxPooling2D(2, 2),\n",
    "    tf.keras.layers.BatchNormalization(),\n",
    "    tf.keras.layers.Dropout(0.25),\n",
    "\n",
    "    tf.keras.layers.Conv2D(128, (3, 3), padding='same', activation='relu'),\n",
    "    tf.keras.layers.MaxPooling2D(2, 2),\n",
    "    tf.keras.layers.BatchNormalization(),\n",
    "    tf.keras.layers.Dropout(0.25),\n",
    "\n",
    "    tf.keras.layers.Flatten(),\n",
    "    tf.keras.layers.Dense(512, activation='relu'),\n",
    "    tf.keras.layers.Dense(128, activation='relu'),\n",
    "    tf.keras.layers.Dense(6, activation='softmax'),\n",
    "])\n",
    "\n",
    "model.summary()"
   ]
  },
  {
   "cell_type": "code",
   "execution_count": null,
   "id": "0b69c4a7",
   "metadata": {},
   "outputs": [],
   "source": [
    "# используем стандартные параметры для обучения модели многоклассовой классификации\n",
    "model.compile(loss = \"sparse_categorical_crossentropy\", optimizer = \"adam\", metrics = [\"accuracy\"])"
   ]
  },
  {
   "cell_type": "markdown",
   "id": "c43b76cd",
   "metadata": {},
   "source": [
    "# Подготовка к валидации"
   ]
  },
  {
   "cell_type": "markdown",
   "id": "84c3a5e4",
   "metadata": {},
   "source": [
    "Для тестирования буду использовать метрику accurcy"
   ]
  },
  {
   "cell_type": "code",
   "execution_count": null,
   "id": "cd37e6e5",
   "metadata": {},
   "outputs": [],
   "source": [
    "testing_data = []\n",
    "test_limit = 200 # количество изображений, попадающие в тестовую выборку с каждого датасета\n",
    "\n",
    "for num, category in enumerate(categories):\n",
    "    path = os.path.join(\"test/\", category)\n",
    "    cnt = 0\n",
    "    for img in os.listdir(path):\n",
    "        if cnt == test_limit:\n",
    "            break\n",
    "        img = cv2.imread(os.path.join(path, img))\n",
    "        img = np.array([[el2[0] for el2 in el1] for el1 in img])\n",
    "        img = cv2.resize(img, img_size)\n",
    "        testing_data.append([img, num])\n",
    "        cnt += 1"
   ]
  },
  {
   "cell_type": "code",
   "execution_count": null,
   "id": "c2c914ca",
   "metadata": {},
   "outputs": [],
   "source": [
    "random.shuffle(testing_data) # перемешиваем данные"
   ]
  },
  {
   "cell_type": "code",
   "execution_count": null,
   "id": "2b8d1d50",
   "metadata": {},
   "outputs": [],
   "source": [
    "X_test = []\n",
    "y_test = []\n",
    "\n",
    "for features, category in testing_data:\n",
    "    X_test.append(features)\n",
    "    y_test.append(category)\n",
    "\n",
    "X_test = np.array(X_test)\n",
    "y_test = np.array(y_test)"
   ]
  },
  {
   "cell_type": "markdown",
   "id": "9c7f5892",
   "metadata": {},
   "source": [
    "# Подбор количества эпох"
   ]
  },
  {
   "cell_type": "code",
   "execution_count": null,
   "id": "fd837016",
   "metadata": {},
   "outputs": [],
   "source": [
    "for i in range(5, 25, 5):\n",
    "    model.fit(X, np.array(y), epochs = 1)\n",
    "    model.evaluate(X_test, y_test)"
   ]
  },
  {
   "cell_type": "markdown",
   "id": "c0a99b8c",
   "metadata": {},
   "source": [
    "### Свойства модели на разных эпохах:\n",
    "Эпоха: 5<br>\n",
    "Точность на обучающей выборке: 0.468<br>\n",
    "Точность на валидационной выборке: 0.45<br>\n",
    "<br>\n",
    "Эпоха: 10<br>\n",
    "Точность на обучающей выборке: 0.7<br>\n",
    "Точность на валидационной выборке: 0.464<br>\n",
    "<br>\n",
    "Эпоха: 15<br>\n",
    "Точность на обучающей выборке: 0.898<br>\n",
    "Точность на валидационной выборке: 0.475<br>\n",
    "<br>\n",
    "Эпоха: 20<br>\n",
    "Точность на обучающей выборке: 0.938<br>\n",
    "Точность на валидационной выборке: 0.485<br>"
   ]
  },
  {
   "cell_type": "markdown",
   "id": "6c5c43a1",
   "metadata": {},
   "source": [
    "Видно, что модель обладает высокой переобучаемостью, особенно на 15 и 20 эпохах. Чтобы переобучимость модели как можно меньше влияла на итоговое качество модели, возьмём количество эпох равным 10"
   ]
  },
  {
   "cell_type": "markdown",
   "id": "49cb37a6",
   "metadata": {},
   "source": [
    "# Итоговая модель"
   ]
  },
  {
   "cell_type": "code",
   "execution_count": null,
   "id": "3df024cd",
   "metadata": {},
   "outputs": [],
   "source": [
    "# final_model = keras.Sequential([\n",
    "# tf.keras.layers.Conv2D(32, (3,3), padding='same', activation='relu', input_shape=(img_size[0], img_size[1], 1)),\n",
    "#     BatchNormalization(),\n",
    "#     tf.keras.layers.MaxPooling2D(2, 2),\n",
    "\n",
    "#     tf.keras.layers.Conv2D(64, (3, 3), padding='same', activation='relu'),\n",
    "#     BatchNormalization(),\n",
    "#     tf.keras.layers.MaxPooling2D(2, 2),\n",
    "\n",
    "#     tf.keras.layers.Conv2D(128, (3, 3), padding='same', activation='relu'),\n",
    "#     BatchNormalization(),\n",
    "#     tf.keras.layers.MaxPooling2D(2, 2),\n",
    "\n",
    "#     tf.keras.layers.Conv2D(128, (3, 3), padding='same', activation='relu'),\n",
    "#     BatchNormalization(),\n",
    "#     tf.keras.layers.MaxPooling2D(2, 2),\n",
    "\n",
    "#     tf.keras.layers.Flatten(),\n",
    "#     tf.keras.layers.Dense(512, activation='relu'),\n",
    "#     tf.keras.layers.Dense(128, activation='relu'),\n",
    "#     tf.keras.layers.Dense(6, activation='softmax')\n",
    "# ])\n",
    "\n",
    "# final_model.compile(loss = \"sparse_categorical_crossentropy\", optimizer = \"adam\", metrics = [\"accuracy\"])\n",
    "\n",
    "# model.fit(X, np.array(y), epochs = 10)\n",
    "\n",
    "model.save(\"emotion_recognition.h5\")"
   ]
  },
  {
   "cell_type": "code",
   "execution_count": 5,
   "id": "b99a9706",
   "metadata": {},
   "outputs": [],
   "source": [
    "model = tf.keras.models.load_model(\"emotion_recognition.h5\")"
   ]
  },
  {
   "cell_type": "code",
   "execution_count": 12,
   "id": "ced2bcd1",
   "metadata": {},
   "outputs": [],
   "source": [
    "model.save_weights('model_weights')"
   ]
  },
  {
   "cell_type": "code",
   "execution_count": null,
   "id": "71c4c1dd",
   "metadata": {},
   "outputs": [],
   "source": []
  },
  {
   "cell_type": "code",
   "execution_count": null,
   "id": "d4757de9",
   "metadata": {},
   "outputs": [],
   "source": []
  }
 ],
 "metadata": {
  "kernelspec": {
   "display_name": "Python 3 (ipykernel)",
   "language": "python",
   "name": "python3"
  },
  "language_info": {
   "codemirror_mode": {
    "name": "ipython",
    "version": 3
   },
   "file_extension": ".py",
   "mimetype": "text/x-python",
   "name": "python",
   "nbconvert_exporter": "python",
   "pygments_lexer": "ipython3",
   "version": "3.10.7"
  }
 },
 "nbformat": 4,
 "nbformat_minor": 5
}
